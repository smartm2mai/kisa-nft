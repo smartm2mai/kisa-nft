{
 "cells": [
  {
   "cell_type": "code",
   "execution_count": 14,
   "id": "3c9ae179",
   "metadata": {},
   "outputs": [],
   "source": [
    "import ipfshttpclient\n",
    "import sqlite3\n",
    "import hashlib\n",
    "import os\n",
    "from tqdm import tqdm\n",
    "\n",
    "def cid_to_int(cid):\n",
    "    return int(hashlib.sha256(cid.encode()).hexdigest(), 16) % (2**31 - 1)\n",
    "\n",
    "conn = sqlite3.connect('nft.db')\n",
    "client = ipfshttpclient.connect(timeout=300)"
   ]
  },
  {
   "cell_type": "code",
   "execution_count": 15,
   "id": "a9e68296",
   "metadata": {},
   "outputs": [
    {
     "data": {
      "text/plain": [
       "<sqlite3.Cursor at 0x7fcc2d470420>"
      ]
     },
     "execution_count": 15,
     "metadata": {},
     "output_type": "execute_result"
    }
   ],
   "source": [
    "cursor = conn.cursor()\n",
    "\n",
    "cursor.execute('''\n",
    "CREATE TABLE IF NOT EXISTS base (\n",
    "    id INTEGER PRIMARY KEY,\n",
    "    hash TEXT NOT NULL\n",
    ")\n",
    "''')"
   ]
  },
  {
   "cell_type": "code",
   "execution_count": 28,
   "id": "af432573",
   "metadata": {},
   "outputs": [],
   "source": [
    "cursor.execute(\"DELETE FROM base\")\n",
    "conn.commit()"
   ]
  },
  {
   "cell_type": "code",
   "execution_count": 16,
   "id": "fe22a27c",
   "metadata": {},
   "outputs": [],
   "source": [
    "azuki_path = \"nft_images/azuki\"\n",
    "bayc_path = \"nft_images/bayc\"\n",
    "cryptopunks_path = \"nft_images/cryptopunks\""
   ]
  },
  {
   "cell_type": "code",
   "execution_count": 29,
   "id": "3497dfaa",
   "metadata": {},
   "outputs": [],
   "source": [
    "def register_db(image_path):\n",
    "    image_list = os.listdir(image_path)\n",
    "    for i in tqdm(range(len(image_list)), desc=\"Register DB\"):\n",
    "        test_img_path = os.path.join(image_path, image_list[i])\n",
    "        test_img_hash = client.files.stat(\"/\" + test_img_path)['Hash']\n",
    "        test_img_id = cid_to_int(test_img_hash)\n",
    "        cursor.execute(\"INSERT INTO base (id, hash) VALUES (?, ?)\", (test_img_id, test_img_hash))\n",
    "        conn.commit()"
   ]
  },
  {
   "cell_type": "code",
   "execution_count": 30,
   "id": "5cfb71f2",
   "metadata": {},
   "outputs": [
    {
     "name": "stderr",
     "output_type": "stream",
     "text": [
      "Register DB: 100%|████████████████████████| 10000/10000 [04:18<00:00, 38.66it/s]\n"
     ]
    }
   ],
   "source": [
    "register_db(azuki_path)"
   ]
  },
  {
   "cell_type": "code",
   "execution_count": 32,
   "id": "0e5e1bf2",
   "metadata": {},
   "outputs": [
    {
     "name": "stderr",
     "output_type": "stream",
     "text": [
      "Register DB: 100%|███████████████████████| 10000/10000 [01:39<00:00, 100.19it/s]\n"
     ]
    }
   ],
   "source": [
    "register_db(bayc_path)"
   ]
  },
  {
   "cell_type": "code",
   "execution_count": 33,
   "id": "42816e5a",
   "metadata": {},
   "outputs": [
    {
     "name": "stderr",
     "output_type": "stream",
     "text": [
      "Register DB: 100%|████████████████████████| 10000/10000 [05:46<00:00, 28.84it/s]\n"
     ]
    }
   ],
   "source": [
    "register_db(cryptopunks_path)"
   ]
  },
  {
   "cell_type": "code",
   "execution_count": null,
   "id": "624c288e",
   "metadata": {},
   "outputs": [],
   "source": []
  }
 ],
 "metadata": {
  "kernelspec": {
   "display_name": "Python 3 (ipykernel)",
   "language": "python",
   "name": "python3"
  },
  "language_info": {
   "codemirror_mode": {
    "name": "ipython",
    "version": 3
   },
   "file_extension": ".py",
   "mimetype": "text/x-python",
   "name": "python",
   "nbconvert_exporter": "python",
   "pygments_lexer": "ipython3",
   "version": "3.8.10"
  }
 },
 "nbformat": 4,
 "nbformat_minor": 5
}
