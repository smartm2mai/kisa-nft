{
 "cells": [
  {
   "cell_type": "code",
   "execution_count": 1,
   "id": "ec828b38",
   "metadata": {},
   "outputs": [],
   "source": [
    "import ipfshttpclient\n",
    "import os\n",
    "from tqdm import tqdm"
   ]
  },
  {
   "cell_type": "code",
   "execution_count": 2,
   "id": "1c2e2164",
   "metadata": {},
   "outputs": [],
   "source": [
    "client = ipfshttpclient.connect()"
   ]
  },
  {
   "cell_type": "code",
   "execution_count": 5,
   "id": "5bbf47ea",
   "metadata": {},
   "outputs": [],
   "source": [
    "def register_base_images(client):\n",
    "    base_path = \"nft_images\"\n",
    "    azuki_path = \"azuki\"\n",
    "    bayc_path = \"bayc\"\n",
    "    cryptopunks_path = \"cryptopunks\"\n",
    "    \n",
    "    azuki_list = os.listdir(os.path.join(base_path, azuki_path))\n",
    "    bayc_list = os.listdir(os.path.join(base_path, bayc_path))\n",
    "    cryptopunks_list = os.listdir(os.path.join(base_path, cryptopunks_path))\n",
    "    \n",
    "    '''\n",
    "    for filename in tqdm(azuki_list, desc=\"Register Azuki\"):\n",
    "        local_file_path = os.path.join(base_path, azuki_path, filename)\n",
    "        ipfs_path = \"/\" + local_file_path\n",
    "        with open(local_file_path, \"rb\") as f:\n",
    "            client.files.write(ipfs_path, f, create=True)\n",
    "    '''\n",
    "    \n",
    "    '''\n",
    "    for filename in tqdm(bayc_list, desc=\"Register BAYC\"):\n",
    "        local_file_path = os.path.join(base_path, bayc_path, filename)\n",
    "        ipfs_path = \"/\" + local_file_path\n",
    "        with open(local_file_path, \"rb\") as f:\n",
    "            client.files.write(ipfs_path, f, create=True)\n",
    "    '''\n",
    "            \n",
    "    for filename in tqdm(cryptopunks_list, desc=\"Register CryptoPunks\"):\n",
    "        local_file_path = os.path.join(base_path, cryptopunks_path, filename)\n",
    "        ipfs_path = \"/\" + local_file_path\n",
    "        with open(local_file_path, \"rb\") as f:\n",
    "            client.files.write(ipfs_path, f, create=True)"
   ]
  },
  {
   "cell_type": "code",
   "execution_count": 6,
   "id": "3070bf08",
   "metadata": {},
   "outputs": [
    {
     "name": "stderr",
     "output_type": "stream",
     "text": [
      "Register CryptoPunks: 100%|███████████████| 10000/10000 [04:48<00:00, 34.67it/s]\n"
     ]
    }
   ],
   "source": [
    "register_base_images(client)"
   ]
  },
  {
   "cell_type": "code",
   "execution_count": null,
   "id": "dd29a76a",
   "metadata": {},
   "outputs": [],
   "source": []
  }
 ],
 "metadata": {
  "kernelspec": {
   "display_name": "Python 3 (ipykernel)",
   "language": "python",
   "name": "python3"
  },
  "language_info": {
   "codemirror_mode": {
    "name": "ipython",
    "version": 3
   },
   "file_extension": ".py",
   "mimetype": "text/x-python",
   "name": "python",
   "nbconvert_exporter": "python",
   "pygments_lexer": "ipython3",
   "version": "3.8.10"
  }
 },
 "nbformat": 4,
 "nbformat_minor": 5
}
